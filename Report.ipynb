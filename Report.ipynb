{
  "nbformat": 4,
  "nbformat_minor": 0,
  "metadata": {
    "kernelspec": {
      "display_name": "Python 3",
      "language": "python",
      "name": "python3"
    },
    "language_info": {
      "codemirror_mode": {
        "name": "ipython",
        "version": 3
      },
      "file_extension": ".py",
      "mimetype": "text/x-python",
      "name": "python",
      "nbconvert_exporter": "python",
      "pygments_lexer": "ipython3",
      "version": "3.7.3"
    },
    "colab": {
      "name": "Report.ipynb",
      "provenance": [],
      "collapsed_sections": [],
      "toc_visible": true
    }
  },
  "cells": [
    {
      "cell_type": "markdown",
      "metadata": {
        "id": "1Hqgw_fbEFDQ",
        "colab_type": "text"
      },
      "source": [
        "# Preparing data\n",
        "\n",
        "We will use **IMDb movie review dataset** for binary sentiment analysis (http://ai.stanford.edu/~amaas/data/sentiment/).\n",
        "\n",
        "Since the data is represented in particular files for each review, we need to apply some helper functions to collect data properly."
      ]
    },
    {
      "cell_type": "code",
      "metadata": {
        "id": "wZoucK8EGLBE",
        "colab_type": "code",
        "colab": {
          "base_uri": "https://localhost:8080/",
          "height": 35
        },
        "outputId": "a1ec30ab-59af-45cc-cde5-f02425aaf617"
      },
      "source": [
        "from google.colab import drive\n",
        "drive.mount('/content/drive')"
      ],
      "execution_count": null,
      "outputs": [
        {
          "output_type": "stream",
          "text": [
            "Mounted at /content/drive\n"
          ],
          "name": "stdout"
        }
      ]
    },
    {
      "cell_type": "code",
      "metadata": {
        "id": "dwIUNx2-EFDU",
        "colab_type": "code",
        "colab": {}
      },
      "source": [
        "import os\n",
        "import numpy as np\n",
        "from matplotlib import pyplot as plt\n",
        "from nltk.tokenize import word_tokenize, WordPunctTokenizer"
      ],
      "execution_count": null,
      "outputs": []
    },
    {
      "cell_type": "code",
      "metadata": {
        "id": "ALKuwcvdEFDl",
        "colab_type": "code",
        "colab": {}
      },
      "source": [
        "def tokenize_text(text):\n",
        "    return WordPunctTokenizer().tokenize(text)\n",
        "\n",
        "def collect_data(filename):\n",
        "    path = 'drive/My Drive/aclImdb'\n",
        "    data = []\n",
        "    with open(os.path.join(path, filename), 'r') as file:\n",
        "        for paragraph in file.read().splitlines():\n",
        "            data.append(tokenize_text(paragraph))\n",
        "    return data"
      ],
      "execution_count": null,
      "outputs": []
    },
    {
      "cell_type": "code",
      "metadata": {
        "scrolled": false,
        "id": "BJwDDfkzEFD1",
        "colab_type": "code",
        "colab": {}
      },
      "source": [
        "X_train_pos = collect_data('X_train_pos')\n",
        "X_train_neg = collect_data('X_train_neg')\n",
        "\n",
        "X_test_pos = collect_data('X_test_pos')\n",
        "X_test_neg = collect_data('X_test_neg')"
      ],
      "execution_count": null,
      "outputs": []
    },
    {
      "cell_type": "code",
      "metadata": {
        "id": "rkPXeVoAEFEE",
        "colab_type": "code",
        "colab": {}
      },
      "source": [
        "X_train = np.array(X_train_pos + X_train_neg)\n",
        "X_test = np.array(X_test_pos + X_test_neg)"
      ],
      "execution_count": null,
      "outputs": []
    },
    {
      "cell_type": "code",
      "metadata": {
        "id": "-2kTkQjWEFEb",
        "colab_type": "code",
        "colab": {}
      },
      "source": [
        "Y_train = np.concatenate((np.ones(len(X_train_pos)), np.zeros(len(X_train_neg))))\n",
        "Y_test = np.concatenate((np.ones(len(X_test_pos)), np.zeros(len(X_test_neg))))"
      ],
      "execution_count": null,
      "outputs": []
    },
    {
      "cell_type": "markdown",
      "metadata": {
        "id": "Gxs9uCi_EFEn",
        "colab_type": "text"
      },
      "source": [
        "# Build word embeddings to represent texts\n"
      ]
    },
    {
      "cell_type": "markdown",
      "metadata": {
        "id": "KuwO3MSoLfXh",
        "colab_type": "text"
      },
      "source": [
        "##Word2Vec embeddings\n",
        "\n",
        "First we want to load pre-trained **word2vec** to represent words with vectors, so words that appear in similar contexts will have vectors with greater scalar product. Then we can try different ways to represent texts: as mean of vectors of incoming words and etc."
      ]
    },
    {
      "cell_type": "code",
      "metadata": {
        "id": "k7_TKAqfEFEp",
        "colab_type": "code",
        "colab": {}
      },
      "source": [
        "import gensim.downloader as api\n",
        "from gensim.models import Word2Vec"
      ],
      "execution_count": null,
      "outputs": []
    },
    {
      "cell_type": "code",
      "metadata": {
        "id": "3rwNwyvdEFEz",
        "colab_type": "code",
        "colab": {
          "base_uri": "https://localhost:8080/",
          "height": 92
        },
        "outputId": "edea6e88-4687-403a-b63b-eacb706761a3"
      },
      "source": [
        "corpus = api.load('text8')\n",
        "word2vec = Word2Vec(corpus, size=100, window=5, min_count=5).wv"
      ],
      "execution_count": null,
      "outputs": [
        {
          "output_type": "stream",
          "text": [
            "[==================================================] 100.0% 31.6/31.6MB downloaded\n"
          ],
          "name": "stdout"
        },
        {
          "output_type": "stream",
          "text": [
            "/usr/local/lib/python3.6/dist-packages/smart_open/smart_open_lib.py:254: UserWarning: This function is deprecated, use smart_open.open instead. See the migration notes for details: https://github.com/RaRe-Technologies/smart_open/blob/master/README.rst#migrating-to-the-new-open-function\n",
            "  'See the migration notes for details: %s' % _MIGRATION_NOTES_URL\n"
          ],
          "name": "stderr"
        }
      ]
    },
    {
      "cell_type": "markdown",
      "metadata": {
        "id": "Pg7YBWNVEFE7",
        "colab_type": "text"
      },
      "source": [
        "So, now we can look for words with most similar contexts to some word, for instance *'kubrick'*."
      ]
    },
    {
      "cell_type": "code",
      "metadata": {
        "id": "CPPbc2UkEFE9",
        "colab_type": "code",
        "colab": {
          "base_uri": "https://localhost:8080/",
          "height": 257
        },
        "outputId": "8493fc81-e14a-418d-9614-65f1c4539ce7"
      },
      "source": [
        "word2vec.most_similar('kubrick')"
      ],
      "execution_count": null,
      "outputs": [
        {
          "output_type": "stream",
          "text": [
            "/usr/local/lib/python3.6/dist-packages/gensim/matutils.py:737: FutureWarning: Conversion of the second argument of issubdtype from `int` to `np.signedinteger` is deprecated. In future, it will be treated as `np.int64 == np.dtype(int).type`.\n",
            "  if np.issubdtype(vec.dtype, np.int):\n"
          ],
          "name": "stderr"
        },
        {
          "output_type": "execute_result",
          "data": {
            "text/plain": [
              "[('lugosi', 0.8195202350616455),\n",
              " ('lynch', 0.8152298331260681),\n",
              " ('mitchell', 0.7943451404571533),\n",
              " ('welles', 0.7931139469146729),\n",
              " ('gibson', 0.7788679003715515),\n",
              " ('scorsese', 0.7748708724975586),\n",
              " ('spielberg', 0.7741739749908447),\n",
              " ('gilliam', 0.7725070118904114),\n",
              " ('burton', 0.7651768922805786),\n",
              " ('osbourne', 0.7646410465240479)]"
            ]
          },
          "metadata": {
            "tags": []
          },
          "execution_count": 9
        }
      ]
    },
    {
      "cell_type": "markdown",
      "metadata": {
        "id": "U9gOKGsYEFFU",
        "colab_type": "text"
      },
      "source": [
        "Now we can start representing texts to learn an algorithm on the training data that predicts texts' labels! Let's try different ways to get text's embedding."
      ]
    },
    {
      "cell_type": "code",
      "metadata": {
        "id": "YhCgB5aLEFFW",
        "colab_type": "code",
        "colab": {}
      },
      "source": [
        "def mean_text_embedding(text, embeddings, word_vectors):    \n",
        "    return np.mean(np.array([word_vectors[word] for word in text if word in embeddings.vocab.keys()]), axis=0)"
      ],
      "execution_count": null,
      "outputs": []
    },
    {
      "cell_type": "code",
      "metadata": {
        "id": "vHi63nB4cJOg",
        "colab_type": "code",
        "colab": {}
      },
      "source": [
        "class EmbeddingMaker():\n",
        "    def __init__(self, embeddings, text_function):\n",
        "        self.embeddings = embeddings\n",
        "        self.text_function = text_function\n",
        "        self.form_word_structures(self.embeddings)\n",
        "    \n",
        "    def form_word_structures(self, embeddings):\n",
        "        self.words = sorted(self.embeddings.vocab.keys(),\n",
        "                            key=lambda word: self.embeddings.vocab[word].count,\n",
        "                            reverse=True)\n",
        "        self.word_vectors = {word : self.embeddings.get_vector(word) for word in self.words}\n",
        "\n",
        "    def get_text_embedding(self, text):\n",
        "        return self.text_function(text, self.embeddings, self.word_vectors)\n",
        "\n",
        "    def get_corpus_embeddings(self, corpus):\n",
        "        return np.stack(([self.text_function(text, self.embeddings, self.word_vectors) for text in corpus]))"
      ],
      "execution_count": null,
      "outputs": []
    },
    {
      "cell_type": "code",
      "metadata": {
        "id": "VaMTeDtge5su",
        "colab_type": "code",
        "colab": {}
      },
      "source": [
        "word2vec_mean = EmbeddingMaker(word2vec, mean_text_embedding)"
      ],
      "execution_count": null,
      "outputs": []
    },
    {
      "cell_type": "code",
      "metadata": {
        "id": "nsF4EIc3EFFe",
        "colab_type": "code",
        "colab": {
          "base_uri": "https://localhost:8080/",
          "height": 495
        },
        "outputId": "ab735972-7194-4718-d083-0b174c3f591d"
      },
      "source": [
        "word2vec_mean.get_text_embedding(X_train[0])"
      ],
      "execution_count": null,
      "outputs": [
        {
          "output_type": "execute_result",
          "data": {
            "text/plain": [
              "array([-4.67617400e-02,  2.63181478e-01,  3.90926711e-02, -4.17325109e-01,\n",
              "        2.30888620e-01, -2.05782861e-01, -8.33507776e-01, -1.46179408e-01,\n",
              "       -3.16390442e-03,  5.40673316e-01, -2.98262686e-01, -8.12956616e-02,\n",
              "       -4.91674207e-02, -5.50487578e-01, -2.08392859e-01, -1.78316697e-01,\n",
              "       -2.94999033e-01,  1.80090610e-02,  3.70815635e-01,  4.41562325e-01,\n",
              "        1.34810889e+00, -2.67927766e-01,  1.16347946e-01,  6.89461172e-01,\n",
              "        3.01863492e-01,  1.49546981e-01, -2.04884559e-01, -5.54269738e-02,\n",
              "        3.75169963e-01,  8.61668229e-01, -8.40959996e-02,  1.20953977e-01,\n",
              "        3.91044766e-01,  1.12622760e-01, -2.42081508e-02,  8.70090201e-02,\n",
              "        1.67460561e-01,  2.02588797e-01,  8.13160907e-04,  2.03196287e-01,\n",
              "       -5.72743356e-01,  2.07716540e-01, -3.54234219e-01,  8.05752873e-02,\n",
              "       -5.74538857e-02, -1.46449372e-01,  3.21996003e-01, -1.60134640e-02,\n",
              "        8.57537240e-02, -8.39313492e-03,  3.69858705e-02,  3.48290205e-01,\n",
              "       -1.11973234e-01,  7.41890892e-02,  1.40726432e-01, -1.24876104e-01,\n",
              "        4.56372589e-01,  2.01198995e-01, -2.79729873e-01, -7.62588382e-01,\n",
              "       -4.88418311e-01,  1.18394069e-01,  3.70164007e-01, -2.68621206e-01,\n",
              "       -2.30956435e-01,  2.75525421e-01,  1.25556573e-01, -7.26505697e-01,\n",
              "        1.74786463e-01, -1.29632369e-01, -2.90814012e-01,  2.49410689e-01,\n",
              "       -3.72186244e-01,  3.38568360e-01,  2.92958349e-01,  6.80245757e-02,\n",
              "        4.99195546e-01, -4.33292747e-01, -5.04850745e-01, -5.95094383e-01,\n",
              "       -5.18296838e-01, -1.29675090e-01, -7.99982250e-01,  1.74780875e-01,\n",
              "       -3.54686677e-01, -2.50129830e-02,  2.83764571e-01,  8.49323720e-03,\n",
              "       -3.36841851e-01, -2.90822387e-01, -2.13311404e-01, -2.26822674e-01,\n",
              "       -4.52373773e-01, -3.18684131e-01,  3.90591502e-01, -1.21122040e-02,\n",
              "        9.16035175e-02, -1.29980415e-01, -6.13003075e-01,  6.38623238e-01],\n",
              "      dtype=float32)"
            ]
          },
          "metadata": {
            "tags": []
          },
          "execution_count": 14
        }
      ]
    },
    {
      "cell_type": "code",
      "metadata": {
        "id": "_mvvkh4EEFFy",
        "colab_type": "code",
        "colab": {}
      },
      "source": [
        "X_train_mean_word2vec = word2vec_mean.get_corpus_embeddings(X_train)"
      ],
      "execution_count": null,
      "outputs": []
    },
    {
      "cell_type": "code",
      "metadata": {
        "id": "fW_-YRukEFF5",
        "colab_type": "code",
        "colab": {
          "base_uri": "https://localhost:8080/",
          "height": 35
        },
        "outputId": "b745a3a2-e927-488e-c60a-e87edb79fb50"
      },
      "source": [
        "print(X_train_mean_word2vec.shape)"
      ],
      "execution_count": null,
      "outputs": [
        {
          "output_type": "stream",
          "text": [
            "(25000, 100)\n"
          ],
          "name": "stdout"
        }
      ]
    },
    {
      "cell_type": "code",
      "metadata": {
        "id": "XdnlKyWNEFGB",
        "colab_type": "code",
        "colab": {}
      },
      "source": [
        "X_test_mean_word2vec = word2vec_mean.get_corpus_embeddings(X_test)"
      ],
      "execution_count": null,
      "outputs": []
    },
    {
      "cell_type": "markdown",
      "metadata": {
        "id": "LQeCbu_t0Jqd",
        "colab_type": "text"
      },
      "source": [
        "###Linear models performance"
      ]
    },
    {
      "cell_type": "code",
      "metadata": {
        "id": "5S-dC5nQEFGK",
        "colab_type": "code",
        "colab": {}
      },
      "source": [
        "from sklearn.linear_model import LogisticRegression\n",
        "from sklearn.ensemble import RandomForestClassifier\n",
        "from sklearn.neighbors import KNeighborsClassifier\n",
        "from sklearn.metrics import accuracy_score, precision_score, recall_score, roc_curve, auc\n",
        "from sklearn.model_selection import cross_val_score, RandomizedSearchCV"
      ],
      "execution_count": null,
      "outputs": []
    },
    {
      "cell_type": "code",
      "metadata": {
        "id": "_8Wm65UOf1fq",
        "colab_type": "code",
        "colab": {}
      },
      "source": [
        "class EstimatorChecker():\n",
        "    def __init__(self, estimator, method_name, X_train, Y_train, X_test, Y_test):\n",
        "        self.estimator = estimator\n",
        "        self.method_name = method_name\n",
        "        self.X_train = X_train\n",
        "        self.Y_train = Y_train\n",
        "        self.X_test = X_test\n",
        "        self.Y_test = Y_test\n",
        "\n",
        "    def fit_to_best_params(self, param_grid):\n",
        "        self.searcher = RandomizedSearchCV(self.estimator, param_grid, n_iter=10, cv=3)\n",
        "        self.searcher.fit(self.X_train, self.Y_train)\n",
        "\n",
        "        self.estimator.set_params(**self.searcher.best_params_)\n",
        "        print('{} best params: {}'.format(self.method_name, self.searcher.best_params_))\n",
        "        print('Best cross_val score: {}'.format(self.searcher.best_score_))\n",
        "\n",
        "    def fit(self):\n",
        "        self.estimator = self.estimator.fit(self.X_train, self.Y_train)\n",
        "\n",
        "    def predict(self):\n",
        "        self.Y_pred = self.estimator.predict(self.X_test)\n",
        "        return self.Y_pred\n",
        "\n",
        "    def print_scores(self):\n",
        "        print('Scores for {}:'.format(self.method_name))\n",
        "        print('Accuracy: {}'.format(accuracy_score(self.Y_test, self.Y_pred)))\n",
        "        print('Precision: {}'.format(precision_score(self.Y_test, self.Y_pred)))\n",
        "        print('Recall: {}'.format(recall_score(self.Y_test, self.Y_pred)))\n",
        "\n",
        "    def plot_roc_curve(self):\n",
        "        fpr, tpr, _ = roc_curve(self.Y_test, \n",
        "                                self.estimator.predict_proba(self.X_test)[:, 1], \n",
        "                                pos_label=1)\n",
        "        plt.figure(figsize=(15, 8))\n",
        "        plt.xlabel('False positive rate')\n",
        "        plt.ylabel('True positive rate')\n",
        "        plt.grid(c='g')\n",
        "        plt.title('ROC-curve for {}'.format(self.method_name))\n",
        "        print('Area under ROC-curve: {:1.4f}'.format(auc(fpr, tpr)))\n",
        "        plt.plot(fpr, tpr)\n",
        "        plt.plot(np.linspace(0, 1, 11), np.linspace(0, 1, 11), 'r')\n",
        "        plt.show()\n",
        "\n",
        "    def iterate_and_report(self):\n",
        "        self.fit()\n",
        "        self.predict()\n",
        "        self.print_scores()\n",
        "        self.plot_roc_curve()"
      ],
      "execution_count": null,
      "outputs": []
    },
    {
      "cell_type": "code",
      "metadata": {
        "id": "vKc-YIW-ooHc",
        "colab_type": "code",
        "colab": {}
      },
      "source": [
        "log_regr = EstimatorChecker(estimator=LogisticRegression(max_iter=300, random_state=1),\n",
        "                            method_name='Logistic Regression',\n",
        "                            X_train=X_train_mean_word2vec,\n",
        "                            Y_train=Y_train,\n",
        "                            X_test=X_test_mean_word2vec,\n",
        "                            Y_test=Y_test)"
      ],
      "execution_count": null,
      "outputs": []
    },
    {
      "cell_type": "code",
      "metadata": {
        "id": "cEb34T_bpIMB",
        "colab_type": "code",
        "colab": {
          "base_uri": "https://localhost:8080/",
          "height": 54
        },
        "outputId": "4e769fdb-52cb-420f-855a-ff4a7cdb0cef"
      },
      "source": [
        "log_regr_param_grid = {'fit_intercept' : [True, False], \n",
        "                       'C' : np.logspace(-4, 3, num=8)}\n",
        "log_regr.fit_to_best_params(log_regr_param_grid)"
      ],
      "execution_count": null,
      "outputs": [
        {
          "output_type": "stream",
          "text": [
            "Logistic Regression best params: {'fit_intercept': True, 'C': 1.0}\n",
            "Best cross_val score: 0.7565602024128961\n"
          ],
          "name": "stdout"
        }
      ]
    },
    {
      "cell_type": "code",
      "metadata": {
        "id": "ghypF9sHr7P9",
        "colab_type": "code",
        "colab": {
          "base_uri": "https://localhost:8080/",
          "height": 605
        },
        "outputId": "6561f333-04ba-45b7-f1eb-f383d0e4666d"
      },
      "source": [
        "log_regr.iterate_and_report()"
      ],
      "execution_count": null,
      "outputs": [
        {
          "output_type": "stream",
          "text": [
            "Scores for Logistic Regression:\n",
            "Accuracy: 0.755\n",
            "Precision: 0.7603528546924774\n",
            "Recall: 0.74472\n",
            "Area under ROC-curve: 0.8316\n"
          ],
          "name": "stdout"
        },
        {
          "output_type": "display_data",
          "data": {
            "image/png": "[encoded data removed]",
            "text/plain": [
              "<Figure size 1080x576 with 1 Axes>"
            ]
          },
          "metadata": {
            "tags": [],
            "needs_background": "light"
          }
        }
      ]
    },
    {
      "cell_type": "code",
      "metadata": {
        "id": "vOoaFz-84TGe",
        "colab_type": "code",
        "colab": {}
      },
      "source": [
        "word_weights = np.array([np.dot(log_regr.coef_, word_vectors[word]) for word in words])"
      ],
      "execution_count": null,
      "outputs": []
    },
    {
      "cell_type": "code",
      "metadata": {
        "id": "mp9fvWOX5buB",
        "colab_type": "code",
        "colab": {
          "base_uri": "https://localhost:8080/",
          "height": 55
        },
        "outputId": "eed8e9b7-98c0-4339-e6fd-0e492fa9f62f"
      },
      "source": [
        "top_weights = np.argsort(word_weights, axis=0)[:20].ravel()\n",
        "print([words[i] for i in top_weights])"
      ],
      "execution_count": null,
      "outputs": [
        {
          "output_type": "stream",
          "text": [
            "['either', 'whether', 'external', 'prevent', 'remove', 'y', 'killed', 'any', 'avoid', 'k', 'kill', 'africa', 'o', 'killing', 'otherwise', 'removed', 'forced', 'prison', 'soviet', 'named']\n"
          ],
          "name": "stdout"
        }
      ]
    },
    {
      "cell_type": "code",
      "metadata": {
        "id": "BDSLMN62xo5i",
        "colab_type": "code",
        "colab": {}
      },
      "source": [
        "rf = EstimatorChecker(estimator=RandomForestClassifier(random_state=1),\n",
        "                            method_name='Random Forest',\n",
        "                            X_train=X_train_mean_word2vec,\n",
        "                            Y_train=Y_train,\n",
        "                            X_test=X_test_mean_word2vec,\n",
        "                            Y_test=Y_test)"
      ],
      "execution_count": null,
      "outputs": []
    },
    {
      "cell_type": "code",
      "metadata": {
        "id": "CO2Uuy1Px1St",
        "colab_type": "code",
        "colab": {
          "base_uri": "https://localhost:8080/",
          "height": 54
        },
        "outputId": "4f320f28-60a7-486e-88b2-3ab291b1ec19"
      },
      "source": [
        "rf_param_grid = {'n_estimators' : np.linspace(100, 300, 101).astype(int), \n",
        "                 'max_depth' : np.linspace(5, 20, 6).astype(int)}\n",
        "rf.fit_to_best_params(rf_param_grid)"
      ],
      "execution_count": null,
      "outputs": [
        {
          "output_type": "stream",
          "text": [
            "Random Forest best params: {'n_estimators': 262, 'max_depth': 20}\n",
            "Best cross_val score: 0.7163201382866929\n"
          ],
          "name": "stdout"
        }
      ]
    },
    {
      "cell_type": "code",
      "metadata": {
        "id": "GH--yqgB0atE",
        "colab_type": "code",
        "colab": {
          "base_uri": "https://localhost:8080/",
          "height": 605
        },
        "outputId": "1a18bf6e-a02e-4d91-efb0-11fd6e4f18d6"
      },
      "source": [
        "rf.iterate_and_report()"
      ],
      "execution_count": null,
      "outputs": [
        {
          "output_type": "stream",
          "text": [
            "Scores for Random Forest:\n",
            "Accuracy: 0.7134\n",
            "Precision: 0.7115216874157482\n",
            "Recall: 0.71784\n",
            "Area under ROC-curve: 0.7848\n"
          ],
          "name": "stdout"
        },
        {
          "output_type": "display_data",
          "data": {
            "image/png": "[encoded data removed]",
            "text/plain": [
              "<Figure size 1080x576 with 1 Axes>"
            ]
          },
          "metadata": {
            "tags": [],
            "needs_background": "light"
          }
        }
      ]
    },
    {
      "cell_type": "code",
      "metadata": {
        "id": "5WjQYRELWC01",
        "colab_type": "code",
        "colab": {}
      },
      "source": [
        "def NegativeCosineSimilarity(x, y):\n",
        "    if x.shape != y.shape:\n",
        "        raise ValueError(\"x and y need to have the same length\")\n",
        "    return -np.dot(x, y) / (np.sqrt((x ** 2).sum() * (y ** 2).sum()) + 10 ** -9)"
      ],
      "execution_count": null,
      "outputs": []
    },
    {
      "cell_type": "code",
      "metadata": {
        "id": "AgqZGEH6fsZD",
        "colab_type": "code",
        "colab": {}
      },
      "source": [
        "def NegativeScalarProduct(x, y):\n",
        "    if x.shape != y.shape:\n",
        "        raise ValueError(\"x and y need to have the same length\")\n",
        "    return -np.dot(x, y)"
      ],
      "execution_count": null,
      "outputs": []
    },
    {
      "cell_type": "code",
      "metadata": {
        "id": "_aDsr0TvJnHd",
        "colab_type": "code",
        "colab": {}
      },
      "source": [
        "kNN = EstimatorChecker(KNeighborsClassifier(),\n",
        "                       method_name='kNN',\n",
        "                       X_train=X_train_mean_word2vec,\n",
        "                       Y_train=Y_train,\n",
        "                       X_test=X_test_mean_word2vec,\n",
        "                       Y_test=Y_test)"
      ],
      "execution_count": null,
      "outputs": []
    },
    {
      "cell_type": "code",
      "metadata": {
        "id": "qDdpubcWgKjQ",
        "colab_type": "code",
        "colab": {
          "base_uri": "https://localhost:8080/",
          "height": 54
        },
        "outputId": "0dba7fea-c11e-4f05-8cc1-6eb9faf86b59"
      },
      "source": [
        "kNN_param_grid = {'metric' : [NegativeCosineSimilarity, NegativeScalarProduct],\n",
        "                  'n_neighbors' : np.arange(1, 11)}\n",
        "kNN.fit_to_best_params(kNN_param_grid)"
      ],
      "execution_count": null,
      "outputs": [
        {
          "output_type": "stream",
          "text": [
            "kNN best params: {'n_neighbors': 1, 'metric': <function NegativeCosineSimilarity at 0x7fd9b0963488>}\n",
            "Best cross_val score: 0.5233584961349018\n"
          ],
          "name": "stdout"
        }
      ]
    },
    {
      "cell_type": "code",
      "metadata": {
        "id": "zN9t4uogifUg",
        "colab_type": "code",
        "colab": {
          "base_uri": "https://localhost:8080/",
          "height": 605
        },
        "outputId": "d0c3af24-b69d-417c-8ff4-228be1dc080c"
      },
      "source": [
        "kNN.iterate_and_report()"
      ],
      "execution_count": null,
      "outputs": [
        {
          "output_type": "stream",
          "text": [
            "Scores for kNN:\n",
            "Accuracy: 0.5268\n",
            "Precision: 0.5478161575792179\n",
            "Recall: 0.30704\n",
            "Area under ROC-curve: 0.5268\n"
          ],
          "name": "stdout"
        },
        {
          "output_type": "display_data",
          "data": {
            "image/png": "[encoded data removed]",
            "text/plain": [
              "<Figure size 1080x576 with 1 Axes>"
            ]
          },
          "metadata": {
            "tags": [],
            "needs_background": "light"
          }
        }
      ]
    },
    {
      "cell_type": "markdown",
      "metadata": {
        "id": "AK5-la2zLxWl",
        "colab_type": "text"
      },
      "source": [
        "##Glove embeddings\n",
        "\n",
        "Now let's try another way to create word embeddings and check its performance for our problem."
      ]
    },
    {
      "cell_type": "code",
      "metadata": {
        "id": "lPHwNBbl07E4",
        "colab_type": "code",
        "colab": {
          "base_uri": "https://localhost:8080/",
          "height": 92
        },
        "outputId": "cd7720df-21c9-4b1e-d0a8-9abc1314e87d"
      },
      "source": [
        "glove = api.load('glove-wiki-gigaword-50')"
      ],
      "execution_count": null,
      "outputs": [
        {
          "output_type": "stream",
          "text": [
            "[==================================================] 100.0% 66.0/66.0MB downloaded\n"
          ],
          "name": "stdout"
        },
        {
          "output_type": "stream",
          "text": [
            "/usr/local/lib/python3.6/dist-packages/smart_open/smart_open_lib.py:254: UserWarning: This function is deprecated, use smart_open.open instead. See the migration notes for details: https://github.com/RaRe-Technologies/smart_open/blob/master/README.rst#migrating-to-the-new-open-function\n",
            "  'See the migration notes for details: %s' % _MIGRATION_NOTES_URL\n"
          ],
          "name": "stderr"
        }
      ]
    },
    {
      "cell_type": "code",
      "metadata": {
        "id": "pq2aod8cMFGE",
        "colab_type": "code",
        "colab": {
          "base_uri": "https://localhost:8080/",
          "height": 257
        },
        "outputId": "8eb41648-a4d0-442a-9cd4-783b18c4a72d"
      },
      "source": [
        "glove.most_similar('kubrick')"
      ],
      "execution_count": null,
      "outputs": [
        {
          "output_type": "stream",
          "text": [
            "/usr/local/lib/python3.6/dist-packages/gensim/matutils.py:737: FutureWarning: Conversion of the second argument of issubdtype from `int` to `np.signedinteger` is deprecated. In future, it will be treated as `np.int64 == np.dtype(int).type`.\n",
            "  if np.issubdtype(vec.dtype, np.int):\n"
          ],
          "name": "stderr"
        },
        {
          "output_type": "execute_result",
          "data": {
            "text/plain": [
              "[('spielberg', 0.7951244711875916),\n",
              " ('welles', 0.7051688432693481),\n",
              " ('soderbergh', 0.7047620415687561),\n",
              " ('selznick', 0.6845448613166809),\n",
              " ('altman', 0.681014358997345),\n",
              " ('bergman', 0.6685311794281006),\n",
              " ('capote', 0.6658517122268677),\n",
              " ('screenplay', 0.661378800868988),\n",
              " ('hitchcock', 0.6600087881088257),\n",
              " ('zemeckis', 0.6493422389030457)]"
            ]
          },
          "metadata": {
            "tags": []
          },
          "execution_count": 226
        }
      ]
    },
    {
      "cell_type": "code",
      "metadata": {
        "id": "8IKSIxe5EFGz",
        "colab_type": "code",
        "colab": {}
      },
      "source": [
        "glove_mean = EmbeddingMaker(glove, mean_text_embedding)"
      ],
      "execution_count": null,
      "outputs": []
    },
    {
      "cell_type": "code",
      "metadata": {
        "id": "UEtUMoXLMD1V",
        "colab_type": "code",
        "colab": {}
      },
      "source": [
        "X_train_mean_glove = glove_mean.get_corpus_embeddings(X_train)\n",
        "\n",
        "X_test_mean_glove = glove_mean.get_corpus_embeddings(X_test)"
      ],
      "execution_count": null,
      "outputs": []
    },
    {
      "cell_type": "markdown",
      "metadata": {
        "id": "Fdnaw7GPT-s7",
        "colab_type": "text"
      },
      "source": [
        "###Linear models performance"
      ]
    },
    {
      "cell_type": "code",
      "metadata": {
        "id": "INOhKod55dfP",
        "colab_type": "code",
        "colab": {}
      },
      "source": [
        "log_regr = EstimatorChecker(estimator=LogisticRegression(max_iter=300, random_state=1),\n",
        "                            method_name='Logistic Regression',\n",
        "                            X_train=X_train_mean_glove,\n",
        "                            Y_train=Y_train,\n",
        "                            X_test=X_test_mean_glove,\n",
        "                            Y_test=Y_test)"
      ],
      "execution_count": null,
      "outputs": []
    },
    {
      "cell_type": "code",
      "metadata": {
        "id": "1yjzsvzG53Kk",
        "colab_type": "code",
        "colab": {
          "base_uri": "https://localhost:8080/",
          "height": 54
        },
        "outputId": "1565121c-8471-4e6f-8e4b-74af55e3c21f"
      },
      "source": [
        "log_regr_param_grid = {'fit_intercept' : [True, False], \n",
        "                       'C' : np.logspace(-4, 3, num=8)}\n",
        "log_regr.fit_to_best_params(log_regr_param_grid)"
      ],
      "execution_count": null,
      "outputs": [
        {
          "output_type": "stream",
          "text": [
            "Logistic Regression best params: {'fit_intercept': True, 'C': 1000.0}\n",
            "Best cross_val score: 0.7560402344099524\n"
          ],
          "name": "stdout"
        }
      ]
    },
    {
      "cell_type": "code",
      "metadata": {
        "id": "E6g-f-nG5_21",
        "colab_type": "code",
        "colab": {
          "base_uri": "https://localhost:8080/",
          "height": 605
        },
        "outputId": "3059bfd9-c50f-4f1d-a504-071cb5a3b942"
      },
      "source": [
        "log_regr.iterate_and_report()"
      ],
      "execution_count": null,
      "outputs": [
        {
          "output_type": "stream",
          "text": [
            "Scores for Logistic Regression:\n",
            "Accuracy: 0.75624\n",
            "Precision: 0.7615975171512578\n",
            "Recall: 0.746\n",
            "Area under ROC-curve: 0.8318\n"
          ],
          "name": "stdout"
        },
        {
          "output_type": "display_data",
          "data": {
            "image/png": "[encoded data removed]",
            "text/plain": [
              "<Figure size 1080x576 with 1 Axes>"
            ]
          },
          "metadata": {
            "tags": [],
            "needs_background": "light"
          }
        }
      ]
    },
    {
      "cell_type": "code",
      "metadata": {
        "id": "-eZFEdNVN4Nx",
        "colab_type": "code",
        "colab": {}
      },
      "source": [
        "rf = EstimatorChecker(estimator=RandomForestClassifier(random_state=1),\n",
        "                            method_name='Random Forest',\n",
        "                            X_train=X_train_mean_glove,\n",
        "                            Y_train=Y_train,\n",
        "                            X_test=X_test_mean_glove,\n",
        "                            Y_test=Y_test)"
      ],
      "execution_count": null,
      "outputs": []
    },
    {
      "cell_type": "code",
      "metadata": {
        "id": "EJP4zXX_Pqvu",
        "colab_type": "code",
        "colab": {
          "base_uri": "https://localhost:8080/",
          "height": 54
        },
        "outputId": "1983bb3e-5032-40dd-8841-6c56b1a39e99"
      },
      "source": [
        "rf_param_grid = {'n_estimators' : np.linspace(100, 300, 101).astype(int), \n",
        "                 'max_depth' : np.linspace(5, 20, 6).astype(int)}\n",
        "rf.fit_to_best_params(rf_param_grid)"
      ],
      "execution_count": null,
      "outputs": [
        {
          "output_type": "stream",
          "text": [
            "Random Forest best params: {'n_estimators': 278, 'max_depth': 20}\n",
            "Best cross_val score: 0.754920151209696\n"
          ],
          "name": "stdout"
        }
      ]
    },
    {
      "cell_type": "code",
      "metadata": {
        "id": "9VIB6HkJ6XlX",
        "colab_type": "code",
        "colab": {
          "base_uri": "https://localhost:8080/",
          "height": 605
        },
        "outputId": "be7bec4c-bfaf-45c7-bfb1-96abea9e34ae"
      },
      "source": [
        "rf.iterate_and_report()"
      ],
      "execution_count": null,
      "outputs": [
        {
          "output_type": "stream",
          "text": [
            "Scores for Random Forest:\n",
            "Accuracy: 0.7462\n",
            "Precision: 0.7441491471638239\n",
            "Recall: 0.7504\n",
            "Area under ROC-curve: 0.8220\n"
          ],
          "name": "stdout"
        },
        {
          "output_type": "display_data",
          "data": {
            "image/png": "[encoded data removed]",
            "text/plain": [
              "<Figure size 1080x576 with 1 Axes>"
            ]
          },
          "metadata": {
            "tags": [],
            "needs_background": "light"
          }
        }
      ]
    },
    {
      "cell_type": "code",
      "metadata": {
        "id": "5JO6Ptpk6e9q",
        "colab_type": "code",
        "colab": {}
      },
      "source": [
        ""
      ],
      "execution_count": null,
      "outputs": []
    }
  ]
}